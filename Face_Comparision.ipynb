{
  "nbformat": 4,
  "nbformat_minor": 0,
  "metadata": {
    "colab": {
      "name": "Face_Comparision.ipynb",
      "provenance": [],
      "collapsed_sections": []
    },
    "kernelspec": {
      "name": "python3",
      "display_name": "Python 3"
    },
    "language_info": {
      "name": "python"
    }
  },
  "cells": [
    {
      "cell_type": "code",
      "execution_count": null,
      "metadata": {
        "id": "WLHG97-26MRI"
      },
      "outputs": [],
      "source": [
        "from keras.models import Sequential\n",
        "from keras.callbacks import EarlyStopping\n",
        "from keras.layers import Dense,Activation,Dropout\n",
        "from keras.utils import np_utils\n",
        "from keras.preprocessing.image import load_img,img_to_array\n",
        "from tensorflow.keras.optimizers import RMSprop,Adam\n",
        "from sklearn.model_selection import train_test_split\n",
        "import numpy as np\n",
        "import pandas as pd\n",
        "import matplotlib.pyplot as plt\n",
        "\n",
        "list_name = [\"ChiPu\",\"DieuNhi\",\"DoKhanhVan\",\"HoaiLinh\",\"HoNgocHa\",\"HuynhPhuong\",\"LuongTheThanh\",\"MiDu\",\"MinhHang\",\"NgoThanhVan\",\"NhaPhuong\",\"TangThanhHa\",\"TranThanh\",\"TruongGiang\",\"VanTrang\"]\n"
      ]
    },
    {
      "cell_type": "code",
      "source": [
        "file_path = 'drive/MyDrive/Cuoiky_AI/Data_128x128/train'+str(0)+'.jpg'\n",
        "img = load_img(file_path,target_size=(128,128))\n",
        "img = img_to_array(img)\n",
        "x = np.array([img])\n",
        "for i in range(1,300):\n",
        "  file_path = 'drive/MyDrive/Cuoiky_AI/Data_128x128/train'+str(i)+'.jpg'\n",
        "  img = load_img(file_path,target_size=(128,128))\n",
        "  img = img_to_array(img)\n",
        "  img = img.astype('float32')\n",
        "  x = np.concatenate((x,[img]),axis=0)\n",
        "arr_0 = np.zeros((20,1),np.uint8)\n",
        "arr_1 = np.ones((20,1),np.uint8)\n",
        "y = np.concatenate((arr_0,arr_1),axis=0)\n",
        "arr = np.ones((20,1),np.uint8)\n",
        "for i in range(2,15):\n",
        "  for j in range(0,20):\n",
        "    arr[j,0] = i\n",
        "  y = np.concatenate((y,arr),axis=0)\n",
        "print(x.shape)\n",
        "print(y.shape)"
      ],
      "metadata": {
        "colab": {
          "base_uri": "https://localhost:8080/"
        },
        "id": "VIz-rnoc6_4S",
        "outputId": "d28b2d44-8c31-4212-cc9d-236224d2014a"
      },
      "execution_count": null,
      "outputs": [
        {
          "output_type": "stream",
          "name": "stdout",
          "text": [
            "(300, 128, 128, 3)\n",
            "(300, 1)\n"
          ]
        }
      ]
    },
    {
      "cell_type": "code",
      "source": [
        "print(np.max(x))\n",
        "print(np.min(x))\n",
        "print(np.max(y))\n",
        "print(np.min(y))"
      ],
      "metadata": {
        "colab": {
          "base_uri": "https://localhost:8080/"
        },
        "id": "9tLgYzYr8EJA",
        "outputId": "773e9c9c-026a-436e-ffe7-906b2eb655a5"
      },
      "execution_count": null,
      "outputs": [
        {
          "output_type": "stream",
          "name": "stdout",
          "text": [
            "255.0\n",
            "0.0\n",
            "14\n",
            "0\n"
          ]
        }
      ]
    },
    {
      "cell_type": "code",
      "source": [
        "\n",
        "\n",
        "print(\"x train shape: \",x_train.shape)\n",
        "print(\"y train shape: \",y_train.shape)\n",
        "print(\"Max x train \",np.max(x_train))\n",
        "print(\"Min x train \",np.min(x_train))"
      ],
      "metadata": {
        "colab": {
          "base_uri": "https://localhost:8080/"
        },
        "id": "ZOwzqMre8YhN",
        "outputId": "a8099907-bf23-4659-9591-f927b9fa7c04"
      },
      "execution_count": null,
      "outputs": [
        {
          "output_type": "stream",
          "name": "stdout",
          "text": [
            "x train shape:  (300, 128, 128, 3)\n",
            "y train shape:  (300, 15)\n",
            "Max x train  1.0\n",
            "Min x train  0.0\n"
          ]
        }
      ]
    },
    {
      "cell_type": "code",
      "source": [
        "from tensorflow.keras.layers import Conv2D,MaxPooling2D\n",
        "from keras.layers import Flatten\n",
        "model = Sequential()\n",
        "\n",
        "model.add(Conv2D(32,(9,9),activation='relu',kernel_initializer='he_uniform',strides=2,padding='same',input_shape=(128,128,3)))\n",
        "model.add(MaxPooling2D((2,2),strides=2,padding='same'))\n",
        "\n",
        "model.add(Conv2D(64,(7,7),activation='relu',strides=1,padding='same'))\n",
        "model.add(MaxPooling2D((2,2),strides=2,padding='same'))\n",
        "\n",
        "model.add(Conv2D(128,(5,5),activation='relu',strides=1,padding='same'))\n",
        "model.add(MaxPooling2D((2,2),strides=2,padding='same'))\n",
        "\n",
        "model.add(Conv2D(256,(3,3),activation='relu',strides=1,padding='same'))\n",
        "model.add(MaxPooling2D((2,2),strides=2,padding='same'))\n",
        "\n",
        "model.add(Conv2D(512,(1,1),activation='relu',strides=1,padding='same'))\n",
        "model.add(MaxPooling2D((2,2),strides=2,padding='same'))\n",
        "\n",
        "model.add(Conv2D(1024,(1,1),activation='relu',strides=1,padding='same'))\n",
        "model.add(MaxPooling2D((2,2),strides=2,padding='same'))\n",
        "\n",
        "model.add(Flatten())\n",
        "model.add(Dense(256,activation='relu',kernel_initializer='he_uniform'))\n",
        "model.add(Dense(64,activation='relu'))\n",
        "model.add(Dense(32,activation='relu'))\n",
        "model.add(Dense(15,activation='softmax'))\n",
        "model.summary()"
      ],
      "metadata": {
        "colab": {
          "base_uri": "https://localhost:8080/"
        },
        "id": "MQ75Bo689FMg",
        "outputId": "897a5211-38a0-4133-d405-df904828cec0"
      },
      "execution_count": null,
      "outputs": [
        {
          "output_type": "stream",
          "name": "stdout",
          "text": [
            "Model: \"sequential\"\n",
            "_________________________________________________________________\n",
            " Layer (type)                Output Shape              Param #   \n",
            "=================================================================\n",
            " conv2d (Conv2D)             (None, 64, 64, 32)        7808      \n",
            "                                                                 \n",
            " max_pooling2d (MaxPooling2D  (None, 32, 32, 32)       0         \n",
            " )                                                               \n",
            "                                                                 \n",
            " conv2d_1 (Conv2D)           (None, 32, 32, 64)        100416    \n",
            "                                                                 \n",
            " max_pooling2d_1 (MaxPooling  (None, 16, 16, 64)       0         \n",
            " 2D)                                                             \n",
            "                                                                 \n",
            " conv2d_2 (Conv2D)           (None, 16, 16, 128)       204928    \n",
            "                                                                 \n",
            " max_pooling2d_2 (MaxPooling  (None, 8, 8, 128)        0         \n",
            " 2D)                                                             \n",
            "                                                                 \n",
            " conv2d_3 (Conv2D)           (None, 8, 8, 256)         295168    \n",
            "                                                                 \n",
            " max_pooling2d_3 (MaxPooling  (None, 4, 4, 256)        0         \n",
            " 2D)                                                             \n",
            "                                                                 \n",
            " conv2d_4 (Conv2D)           (None, 4, 4, 512)         131584    \n",
            "                                                                 \n",
            " max_pooling2d_4 (MaxPooling  (None, 2, 2, 512)        0         \n",
            " 2D)                                                             \n",
            "                                                                 \n",
            " conv2d_5 (Conv2D)           (None, 2, 2, 1024)        525312    \n",
            "                                                                 \n",
            " max_pooling2d_5 (MaxPooling  (None, 1, 1, 1024)       0         \n",
            " 2D)                                                             \n",
            "                                                                 \n",
            " flatten (Flatten)           (None, 1024)              0         \n",
            "                                                                 \n",
            " dense (Dense)               (None, 256)               262400    \n",
            "                                                                 \n",
            " dense_1 (Dense)             (None, 64)                16448     \n",
            "                                                                 \n",
            " dense_2 (Dense)             (None, 32)                2080      \n",
            "                                                                 \n",
            " dense_3 (Dense)             (None, 15)                495       \n",
            "                                                                 \n",
            "=================================================================\n",
            "Total params: 1,546,639\n",
            "Trainable params: 1,546,639\n",
            "Non-trainable params: 0\n",
            "_________________________________________________________________\n"
          ]
        }
      ]
    },
    {
      "cell_type": "code",
      "source": [
        "from tensorflow.keras.optimizers import SGD\n",
        "opt = SGD(lr=0.01,momentum=0.9)\n",
        "model.compile(optimizer=RMSprop(),loss='categorical_crossentropy',metrics=['accuracy'])\n",
        "history = model.fit(x_train,y_train,epochs=100,batch_size=16,verbose=1)\n",
        "model_json = model.to_json()\n",
        "with open('drive/MyDrive/Cuoiky_AI/Model/face_compare_config.json','w') as file_json:\n",
        "  file_json.write(model_json)\n",
        "model.save_weights('drive/MyDrive/Cuoiky_AI/Model/face_compare_weights.h5')\n",
        "pd.DataFrame(history.history).plot(figsize=(8,5))\n",
        "plt.grid(True)\n",
        "plt.show()\n",
        "print('\\n')\n",
        "plt.plot(history.history['accuracy'])\n",
        "plt.title('Model accuracy')\n",
        "plt.ylabel('Accuracy')\n",
        "plt.xlabel('Epoch')\n",
        "plt.legend(['Train','Validation'],loc='upper_left')\n",
        "plt.show()"
      ],
      "metadata": {
        "colab": {
          "base_uri": "https://localhost:8080/",
          "height": 1000
        },
        "id": "zkJeXjqe_eMY",
        "outputId": "07dda312-8e98-4d3b-998e-63d2c5729758"
      },
      "execution_count": null,
      "outputs": [
        {
          "output_type": "stream",
          "name": "stdout",
          "text": [
            "Epoch 1/100\n"
          ]
        },
        {
          "output_type": "stream",
          "name": "stderr",
          "text": [
            "/usr/local/lib/python3.7/dist-packages/keras/optimizer_v2/gradient_descent.py:102: UserWarning: The `lr` argument is deprecated, use `learning_rate` instead.\n",
            "  super(SGD, self).__init__(name, **kwargs)\n"
          ]
        },
        {
          "output_type": "stream",
          "name": "stdout",
          "text": [
            "19/19 [==============================] - 12s 555ms/step - loss: 3.1539 - accuracy: 0.0567\n",
            "Epoch 2/100\n",
            "19/19 [==============================] - 10s 552ms/step - loss: 2.7331 - accuracy: 0.0667\n",
            "Epoch 3/100\n",
            "19/19 [==============================] - 10s 551ms/step - loss: 2.7317 - accuracy: 0.0600\n",
            "Epoch 4/100\n",
            "19/19 [==============================] - 10s 552ms/step - loss: 2.7093 - accuracy: 0.0467\n",
            "Epoch 5/100\n",
            "19/19 [==============================] - 11s 556ms/step - loss: 2.7107 - accuracy: 0.0500\n",
            "Epoch 6/100\n",
            "19/19 [==============================] - 12s 585ms/step - loss: 2.7182 - accuracy: 0.0500\n",
            "Epoch 7/100\n",
            "19/19 [==============================] - 11s 553ms/step - loss: 2.7248 - accuracy: 0.0633\n",
            "Epoch 8/100\n",
            "19/19 [==============================] - 11s 565ms/step - loss: 2.7099 - accuracy: 0.0700\n",
            "Epoch 9/100\n",
            "19/19 [==============================] - 11s 556ms/step - loss: 2.7054 - accuracy: 0.0633\n",
            "Epoch 10/100\n",
            "19/19 [==============================] - 11s 553ms/step - loss: 2.7037 - accuracy: 0.0900\n",
            "Epoch 11/100\n",
            "19/19 [==============================] - 10s 551ms/step - loss: 2.7395 - accuracy: 0.0667\n",
            "Epoch 12/100\n",
            "19/19 [==============================] - 10s 550ms/step - loss: 2.6191 - accuracy: 0.1200\n",
            "Epoch 13/100\n",
            "19/19 [==============================] - 10s 550ms/step - loss: 2.5897 - accuracy: 0.1267\n",
            "Epoch 14/100\n",
            "19/19 [==============================] - 11s 555ms/step - loss: 2.5545 - accuracy: 0.1400\n",
            "Epoch 15/100\n",
            "19/19 [==============================] - 10s 551ms/step - loss: 2.5672 - accuracy: 0.1433\n",
            "Epoch 16/100\n",
            "19/19 [==============================] - 10s 551ms/step - loss: 2.5575 - accuracy: 0.1233\n",
            "Epoch 17/100\n",
            "19/19 [==============================] - 11s 554ms/step - loss: 2.5366 - accuracy: 0.1300\n",
            "Epoch 18/100\n",
            "19/19 [==============================] - 11s 552ms/step - loss: 2.4760 - accuracy: 0.1367\n",
            "Epoch 19/100\n",
            "19/19 [==============================] - 11s 554ms/step - loss: 2.5661 - accuracy: 0.1267\n",
            "Epoch 20/100\n",
            "19/19 [==============================] - 12s 660ms/step - loss: 2.4775 - accuracy: 0.1833\n",
            "Epoch 21/100\n",
            "19/19 [==============================] - 11s 554ms/step - loss: 2.4142 - accuracy: 0.1533\n",
            "Epoch 22/100\n",
            "19/19 [==============================] - 11s 558ms/step - loss: 2.3513 - accuracy: 0.1900\n",
            "Epoch 23/100\n",
            "19/19 [==============================] - 11s 560ms/step - loss: 2.3895 - accuracy: 0.1633\n",
            "Epoch 24/100\n",
            "19/19 [==============================] - 11s 556ms/step - loss: 2.2450 - accuracy: 0.2067\n",
            "Epoch 25/100\n",
            "19/19 [==============================] - 11s 563ms/step - loss: 2.3594 - accuracy: 0.1433\n",
            "Epoch 26/100\n",
            "19/19 [==============================] - 11s 558ms/step - loss: 2.2333 - accuracy: 0.2033\n",
            "Epoch 27/100\n",
            "19/19 [==============================] - 11s 555ms/step - loss: 2.1140 - accuracy: 0.2167\n",
            "Epoch 28/100\n",
            "19/19 [==============================] - 11s 560ms/step - loss: 2.0367 - accuracy: 0.2733\n",
            "Epoch 29/100\n",
            "19/19 [==============================] - 11s 559ms/step - loss: 2.0042 - accuracy: 0.2167\n",
            "Epoch 30/100\n",
            "19/19 [==============================] - 11s 562ms/step - loss: 1.9065 - accuracy: 0.2833\n",
            "Epoch 31/100\n",
            "19/19 [==============================] - 11s 562ms/step - loss: 2.0368 - accuracy: 0.2567\n",
            "Epoch 32/100\n",
            "19/19 [==============================] - 11s 563ms/step - loss: 1.7714 - accuracy: 0.3133\n",
            "Epoch 33/100\n",
            "19/19 [==============================] - 11s 564ms/step - loss: 1.9971 - accuracy: 0.2933\n",
            "Epoch 34/100\n",
            "19/19 [==============================] - 11s 561ms/step - loss: 1.8198 - accuracy: 0.3133\n",
            "Epoch 35/100\n",
            "19/19 [==============================] - 11s 557ms/step - loss: 1.8112 - accuracy: 0.3333\n",
            "Epoch 36/100\n",
            "19/19 [==============================] - 11s 559ms/step - loss: 1.5939 - accuracy: 0.3533\n",
            "Epoch 37/100\n",
            "19/19 [==============================] - 11s 559ms/step - loss: 1.5575 - accuracy: 0.3867\n",
            "Epoch 38/100\n",
            "19/19 [==============================] - 11s 557ms/step - loss: 1.4521 - accuracy: 0.4367\n",
            "Epoch 39/100\n",
            "19/19 [==============================] - 11s 556ms/step - loss: 1.4855 - accuracy: 0.4200\n",
            "Epoch 40/100\n",
            "19/19 [==============================] - 11s 556ms/step - loss: 1.3772 - accuracy: 0.4867\n",
            "Epoch 41/100\n",
            "19/19 [==============================] - 11s 557ms/step - loss: 1.1781 - accuracy: 0.5267\n",
            "Epoch 42/100\n",
            "19/19 [==============================] - 12s 662ms/step - loss: 1.3809 - accuracy: 0.4867\n",
            "Epoch 43/100\n",
            "19/19 [==============================] - 11s 555ms/step - loss: 1.0374 - accuracy: 0.5867\n",
            "Epoch 44/100\n",
            "19/19 [==============================] - 11s 557ms/step - loss: 0.9038 - accuracy: 0.6633\n",
            "Epoch 45/100\n",
            "19/19 [==============================] - 11s 562ms/step - loss: 0.8785 - accuracy: 0.6833\n",
            "Epoch 46/100\n",
            "19/19 [==============================] - 11s 555ms/step - loss: 1.0540 - accuracy: 0.6267\n",
            "Epoch 47/100\n",
            "19/19 [==============================] - 11s 561ms/step - loss: 0.8111 - accuracy: 0.7133\n",
            "Epoch 48/100\n",
            "19/19 [==============================] - 11s 569ms/step - loss: 0.7715 - accuracy: 0.7200\n",
            "Epoch 49/100\n",
            "19/19 [==============================] - 11s 564ms/step - loss: 0.4701 - accuracy: 0.8367\n",
            "Epoch 50/100\n",
            "19/19 [==============================] - 11s 565ms/step - loss: 1.0033 - accuracy: 0.7267\n",
            "Epoch 51/100\n",
            "19/19 [==============================] - 11s 567ms/step - loss: 0.7141 - accuracy: 0.7967\n",
            "Epoch 52/100\n",
            "19/19 [==============================] - 11s 565ms/step - loss: 0.4825 - accuracy: 0.8633\n",
            "Epoch 53/100\n",
            "19/19 [==============================] - 11s 568ms/step - loss: 1.1465 - accuracy: 0.7333\n",
            "Epoch 54/100\n",
            "19/19 [==============================] - 11s 566ms/step - loss: 0.5710 - accuracy: 0.8233\n",
            "Epoch 55/100\n",
            "19/19 [==============================] - 11s 563ms/step - loss: 0.3387 - accuracy: 0.8633\n",
            "Epoch 56/100\n",
            "19/19 [==============================] - 11s 562ms/step - loss: 0.5850 - accuracy: 0.8267\n",
            "Epoch 57/100\n",
            "19/19 [==============================] - 11s 566ms/step - loss: 0.2605 - accuracy: 0.9133\n",
            "Epoch 58/100\n",
            "19/19 [==============================] - 11s 559ms/step - loss: 0.7538 - accuracy: 0.7900\n",
            "Epoch 59/100\n",
            "19/19 [==============================] - 11s 560ms/step - loss: 0.2281 - accuracy: 0.9300\n",
            "Epoch 60/100\n",
            "19/19 [==============================] - 11s 563ms/step - loss: 0.6115 - accuracy: 0.8467\n",
            "Epoch 61/100\n",
            "19/19 [==============================] - 11s 562ms/step - loss: 0.1331 - accuracy: 0.9633\n",
            "Epoch 62/100\n",
            "19/19 [==============================] - 11s 564ms/step - loss: 0.6901 - accuracy: 0.7967\n",
            "Epoch 63/100\n",
            "19/19 [==============================] - 11s 561ms/step - loss: 0.0453 - accuracy: 0.9933\n",
            "Epoch 64/100\n",
            "19/19 [==============================] - 13s 667ms/step - loss: 0.5910 - accuracy: 0.8267\n",
            "Epoch 65/100\n",
            "19/19 [==============================] - 11s 561ms/step - loss: 0.2496 - accuracy: 0.9233\n",
            "Epoch 66/100\n",
            "19/19 [==============================] - 11s 560ms/step - loss: 0.3474 - accuracy: 0.8967\n",
            "Epoch 67/100\n",
            "19/19 [==============================] - 11s 562ms/step - loss: 0.1468 - accuracy: 0.9667\n",
            "Epoch 68/100\n",
            "19/19 [==============================] - 11s 562ms/step - loss: 0.6046 - accuracy: 0.8767\n",
            "Epoch 69/100\n",
            "19/19 [==============================] - 11s 559ms/step - loss: 0.8524 - accuracy: 0.8000\n",
            "Epoch 70/100\n",
            "19/19 [==============================] - 11s 559ms/step - loss: 0.2060 - accuracy: 0.9333\n",
            "Epoch 71/100\n",
            "19/19 [==============================] - 11s 560ms/step - loss: 0.0155 - accuracy: 0.9967\n",
            "Epoch 72/100\n",
            "19/19 [==============================] - 11s 564ms/step - loss: 0.4389 - accuracy: 0.9000\n",
            "Epoch 73/100\n",
            "19/19 [==============================] - 11s 567ms/step - loss: 0.1248 - accuracy: 0.9567\n",
            "Epoch 74/100\n",
            "19/19 [==============================] - 11s 558ms/step - loss: 0.3384 - accuracy: 0.9133\n",
            "Epoch 75/100\n",
            "19/19 [==============================] - 11s 564ms/step - loss: 0.2458 - accuracy: 0.9600\n",
            "Epoch 76/100\n",
            "19/19 [==============================] - 11s 564ms/step - loss: 0.4075 - accuracy: 0.9100\n",
            "Epoch 77/100\n",
            "19/19 [==============================] - 11s 564ms/step - loss: 0.0854 - accuracy: 0.9767\n",
            "Epoch 78/100\n",
            "19/19 [==============================] - 11s 564ms/step - loss: 0.0012 - accuracy: 1.0000\n",
            "Epoch 79/100\n",
            "19/19 [==============================] - 11s 564ms/step - loss: 2.8228e-04 - accuracy: 1.0000\n",
            "Epoch 80/100\n",
            "19/19 [==============================] - 11s 564ms/step - loss: 1.0069e-04 - accuracy: 1.0000\n",
            "Epoch 81/100\n",
            "19/19 [==============================] - 11s 567ms/step - loss: 3.3487e-05 - accuracy: 1.0000\n",
            "Epoch 82/100\n",
            "19/19 [==============================] - 11s 564ms/step - loss: 1.0282e-05 - accuracy: 1.0000\n",
            "Epoch 83/100\n",
            "19/19 [==============================] - 11s 560ms/step - loss: 3.5607e-06 - accuracy: 1.0000\n",
            "Epoch 84/100\n",
            "19/19 [==============================] - 11s 562ms/step - loss: 1.1428e-06 - accuracy: 1.0000\n",
            "Epoch 85/100\n",
            "19/19 [==============================] - 11s 566ms/step - loss: 4.0054e-07 - accuracy: 1.0000\n",
            "Epoch 86/100\n",
            "19/19 [==============================] - 11s 587ms/step - loss: 1.4981e-07 - accuracy: 1.0000\n",
            "Epoch 87/100\n",
            "19/19 [==============================] - 12s 622ms/step - loss: 5.8015e-08 - accuracy: 1.0000\n",
            "Epoch 88/100\n",
            "19/19 [==============================] - 11s 560ms/step - loss: 2.2650e-08 - accuracy: 1.0000\n",
            "Epoch 89/100\n",
            "19/19 [==============================] - 11s 562ms/step - loss: 1.0729e-08 - accuracy: 1.0000\n",
            "Epoch 90/100\n",
            "19/19 [==============================] - 11s 562ms/step - loss: 6.7552e-09 - accuracy: 1.0000\n",
            "Epoch 91/100\n",
            "19/19 [==============================] - 11s 564ms/step - loss: 4.3710e-09 - accuracy: 1.0000\n",
            "Epoch 92/100\n",
            "19/19 [==============================] - 11s 564ms/step - loss: 6.7552e-09 - accuracy: 1.0000\n",
            "Epoch 93/100\n",
            "19/19 [==============================] - 11s 566ms/step - loss: 1.6643 - accuracy: 0.6333\n",
            "Epoch 94/100\n",
            "19/19 [==============================] - 11s 561ms/step - loss: 0.1531 - accuracy: 0.9600\n",
            "Epoch 95/100\n",
            "19/19 [==============================] - 11s 564ms/step - loss: 5.8160e-04 - accuracy: 1.0000\n",
            "Epoch 96/100\n",
            "19/19 [==============================] - 11s 562ms/step - loss: 1.6548e-04 - accuracy: 1.0000\n",
            "Epoch 97/100\n",
            "19/19 [==============================] - 11s 566ms/step - loss: 6.0111e-05 - accuracy: 1.0000\n",
            "Epoch 98/100\n",
            "19/19 [==============================] - 11s 563ms/step - loss: 2.1969e-05 - accuracy: 1.0000\n",
            "Epoch 99/100\n",
            "19/19 [==============================] - 11s 562ms/step - loss: 8.0401e-06 - accuracy: 1.0000\n",
            "Epoch 100/100\n",
            "19/19 [==============================] - 11s 562ms/step - loss: 2.6993e-06 - accuracy: 1.0000\n"
          ]
        },
        {
          "output_type": "display_data",
          "data": {
            "text/plain": [
              "<Figure size 576x360 with 1 Axes>"
            ],
            "image/png": "[encoded data removed]"
          },
          "metadata": {
            "needs_background": "light"
          }
        },
        {
          "output_type": "stream",
          "name": "stdout",
          "text": [
            "\n",
            "\n"
          ]
        },
        {
          "output_type": "error",
          "ename": "KeyError",
          "evalue": "ignored",
          "traceback": [
            "\u001b[0;31m---------------------------------------------------------------------------\u001b[0m",
            "\u001b[0;31mKeyError\u001b[0m                                  Traceback (most recent call last)",
            "\u001b[0;32m<ipython-input-6-f60792cc8ade>\u001b[0m in \u001b[0;36m<module>\u001b[0;34m()\u001b[0m\n\u001b[1;32m     12\u001b[0m \u001b[0mprint\u001b[0m\u001b[0;34m(\u001b[0m\u001b[0;34m'\\n'\u001b[0m\u001b[0;34m)\u001b[0m\u001b[0;34m\u001b[0m\u001b[0;34m\u001b[0m\u001b[0m\n\u001b[1;32m     13\u001b[0m \u001b[0mplt\u001b[0m\u001b[0;34m.\u001b[0m\u001b[0mplot\u001b[0m\u001b[0;34m(\u001b[0m\u001b[0mhistory\u001b[0m\u001b[0;34m.\u001b[0m\u001b[0mhistory\u001b[0m\u001b[0;34m[\u001b[0m\u001b[0;34m'accuracy'\u001b[0m\u001b[0;34m]\u001b[0m\u001b[0;34m)\u001b[0m\u001b[0;34m\u001b[0m\u001b[0;34m\u001b[0m\u001b[0m\n\u001b[0;32m---> 14\u001b[0;31m \u001b[0mplt\u001b[0m\u001b[0;34m.\u001b[0m\u001b[0mplot\u001b[0m\u001b[0;34m(\u001b[0m\u001b[0mhistory\u001b[0m\u001b[0;34m.\u001b[0m\u001b[0mhistory\u001b[0m\u001b[0;34m[\u001b[0m\u001b[0;34m'val_accuracy'\u001b[0m\u001b[0;34m]\u001b[0m\u001b[0;34m)\u001b[0m\u001b[0;34m\u001b[0m\u001b[0;34m\u001b[0m\u001b[0m\n\u001b[0m\u001b[1;32m     15\u001b[0m \u001b[0mplt\u001b[0m\u001b[0;34m.\u001b[0m\u001b[0mtitle\u001b[0m\u001b[0;34m(\u001b[0m\u001b[0;34m'Model accuracy'\u001b[0m\u001b[0;34m)\u001b[0m\u001b[0;34m\u001b[0m\u001b[0;34m\u001b[0m\u001b[0m\n\u001b[1;32m     16\u001b[0m \u001b[0mplt\u001b[0m\u001b[0;34m.\u001b[0m\u001b[0mylabel\u001b[0m\u001b[0;34m(\u001b[0m\u001b[0;34m'Accuracy'\u001b[0m\u001b[0;34m)\u001b[0m\u001b[0;34m\u001b[0m\u001b[0;34m\u001b[0m\u001b[0m\n",
            "\u001b[0;31mKeyError\u001b[0m: 'val_accuracy'"
          ]
        },
        {
          "output_type": "display_data",
          "data": {
            "text/plain": [
              "<Figure size 432x288 with 1 Axes>"
            ],
            "image/png": "[encoded data removed]"
          },
          "metadata": {
            "needs_background": "light"
          }
        }
      ]
    },
    {
      "cell_type": "code",
      "source": [
        ""
      ],
      "metadata": {
        "id": "4wKMMFYPAbC8"
      },
      "execution_count": null,
      "outputs": []
    }
  ]
}